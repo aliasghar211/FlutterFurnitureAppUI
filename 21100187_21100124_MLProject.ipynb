{
  "nbformat": 4,
  "nbformat_minor": 0,
  "metadata": {
    "colab": {
      "name": "21100187-21100124-MLProject",
      "provenance": [],
      "collapsed_sections": [],
      "include_colab_link": true
    },
    "kernelspec": {
      "name": "python3",
      "display_name": "Python 3"
    },
    "language_info": {
      "name": "python"
    }
  },
  "cells": [
    {
      "cell_type": "markdown",
      "metadata": {
        "id": "view-in-github",
        "colab_type": "text"
      },
      "source": [
        "<a href=\"https://colab.research.google.com/github/aliasghar211/FlutterFurnitureAppUI/blob/master/21100187_21100124_MLProject.ipynb\" target=\"_parent\"><img src=\"https://colab.research.google.com/assets/colab-badge.svg\" alt=\"Open In Colab\"/></a>"
      ]
    },
    {
      "cell_type": "code",
      "metadata": {
        "id": "2yXyeWK6KLUl"
      },
      "source": [
        "\n",
        "# FTR = Full Time Result (H=Home Win, D=Draw, A=Away Win)\n",
        "\n",
        "# HomeTeam = ghar Team \n",
        "# AwayTeam = Away Team\n",
        "\n",
        "# (HTHG = Half Time Home Team Goals + HTAG = Half Time Away Team Goals)\n",
        "\n",
        "# -- OR -- \n",
        "\n",
        "# HTR = Half Time Result (H=Home Win, D=Draw, A=Away Win)\n",
        "\n",
        "\n",
        "\n",
        "# FTHG = Full Time Home Team Goals X\n",
        "# FTAG = Full Time Away Team Goals X\n",
        "\n",
        "# Match Statistics (where available)\n",
        "# Attendance = Crowd Attendance\n",
        "# Referee = Match Referee\n",
        "# HS = Home Team Shots\n",
        "# AS = Away Team Shots\n",
        "# HST = Home Team Shots on Target\n",
        "# AST = Away Team Shots on Target\n",
        "# HHW = Home Team Hit Woodwork\n",
        "# AHW = Away Team Hit Woodwork\n",
        "# HC = Home Team Corners\n",
        "# AC = Away Team Corners\n",
        "# HF = Home Team Fouls Committed\n",
        "# AF = Away Team Fouls Committed\n",
        "# HO = Home Team Offsides\n",
        "# AO = Away Team Offsides\n",
        "\n",
        "\n",
        "# HY = Home Team Yellow Cards\n",
        "# AY = Away Team Yellow Cards\n",
        "# HR = Home Team Red Cards\n",
        "# AR = Away Team Red Cards\n",
        "\n",
        "# -- OR --\n",
        "\n",
        "# HBP = Home Team Bookings Points (10 = yellow, 25 = red)\n",
        "# ABP = Away Team Bookings Points (10 = yellow, 25 = red)"
      ],
      "execution_count": 2,
      "outputs": []
    },
    {
      "cell_type": "code",
      "metadata": {
        "colab": {
          "base_uri": "https://localhost:8080/"
        },
        "id": "mZP58H14mfhW",
        "outputId": "484f39e1-a57a-4da1-c23f-a0097232f272"
      },
      "source": [
        "from google.colab import drive\n",
        "drive.mount('/content/drive')"
      ],
      "execution_count": 3,
      "outputs": [
        {
          "output_type": "stream",
          "text": [
            "Mounted at /content/drive\n"
          ],
          "name": "stdout"
        }
      ]
    },
    {
      "cell_type": "code",
      "metadata": {
        "id": "xJGZnu3AnCDl"
      },
      "source": [
        "import numpy as np\n",
        "import pandas as pd\n",
        "import os\n",
        "import sklearn\n",
        "import matplotlib.pyplot as plt\n",
        "import seaborn as sns\n",
        "from sklearn.naive_bayes import GaussianNB"
      ],
      "execution_count": 4,
      "outputs": []
    },
    {
      "cell_type": "code",
      "metadata": {
        "id": "jIFGpWdbl7Fk"
      },
      "source": [
        "data_path = '/content/drive/MyDrive/ML_EPL/'\n",
        "files = os.listdir(data_path)"
      ],
      "execution_count": 5,
      "outputs": []
    },
    {
      "cell_type": "code",
      "metadata": {
        "id": "U_R_IOVinQ9b",
        "colab": {
          "base_uri": "https://localhost:8080/"
        },
        "outputId": "fc257d63-75ec-4d2b-e618-92380e915231"
      },
      "source": [
        "begun = 0\n",
        "for fille in files:\n",
        "  if fille.split('.')[-1] == 'csv':\n",
        "    if begun == 0: \n",
        "      dataset00 = pd.read_csv(data_path + fille)  \n",
        "      begun = 1\n",
        "    else:\n",
        "      dataset00 = dataset00.append(pd.read_csv(data_path + fille),ignore_index=True)\n",
        "\n",
        "print(len(dataset00))\n",
        "dataset00.shape"
      ],
      "execution_count": 6,
      "outputs": [
        {
          "output_type": "stream",
          "text": [
            "7303\n"
          ],
          "name": "stdout"
        },
        {
          "output_type": "execute_result",
          "data": {
            "text/plain": [
              "(7303, 162)"
            ]
          },
          "metadata": {
            "tags": []
          },
          "execution_count": 6
        }
      ]
    },
    {
      "cell_type": "code",
      "metadata": {
        "colab": {
          "base_uri": "https://localhost:8080/",
          "height": 575
        },
        "id": "e4uBwQU_d9DR",
        "outputId": "4bce3901-2beb-4855-e5d3-cb41e77cf19d"
      },
      "source": [
        "dataset00 = dataset00.iloc[:,:23]\n",
        "dataset00.dropna(axis=0,inplace=True)\n",
        "dataset00"
      ],
      "execution_count": 7,
      "outputs": [
        {
          "output_type": "execute_result",
          "data": {
            "text/html": [
              "<div>\n",
              "<style scoped>\n",
              "    .dataframe tbody tr th:only-of-type {\n",
              "        vertical-align: middle;\n",
              "    }\n",
              "\n",
              "    .dataframe tbody tr th {\n",
              "        vertical-align: top;\n",
              "    }\n",
              "\n",
              "    .dataframe thead th {\n",
              "        text-align: right;\n",
              "    }\n",
              "</style>\n",
              "<table border=\"1\" class=\"dataframe\">\n",
              "  <thead>\n",
              "    <tr style=\"text-align: right;\">\n",
              "      <th></th>\n",
              "      <th>Div</th>\n",
              "      <th>Date</th>\n",
              "      <th>HomeTeam</th>\n",
              "      <th>AwayTeam</th>\n",
              "      <th>FTHG</th>\n",
              "      <th>FTAG</th>\n",
              "      <th>FTR</th>\n",
              "      <th>HTHG</th>\n",
              "      <th>HTAG</th>\n",
              "      <th>HTR</th>\n",
              "      <th>Referee</th>\n",
              "      <th>HS</th>\n",
              "      <th>AS</th>\n",
              "      <th>HST</th>\n",
              "      <th>AST</th>\n",
              "      <th>HF</th>\n",
              "      <th>AF</th>\n",
              "      <th>HC</th>\n",
              "      <th>AC</th>\n",
              "      <th>HY</th>\n",
              "      <th>AY</th>\n",
              "      <th>HR</th>\n",
              "      <th>AR</th>\n",
              "    </tr>\n",
              "  </thead>\n",
              "  <tbody>\n",
              "    <tr>\n",
              "      <th>0</th>\n",
              "      <td>E0</td>\n",
              "      <td>16/08/14</td>\n",
              "      <td>Arsenal</td>\n",
              "      <td>Crystal Palace</td>\n",
              "      <td>2.0</td>\n",
              "      <td>1.0</td>\n",
              "      <td>H</td>\n",
              "      <td>1.0</td>\n",
              "      <td>1.0</td>\n",
              "      <td>D</td>\n",
              "      <td>J Moss</td>\n",
              "      <td>14.0</td>\n",
              "      <td>4.0</td>\n",
              "      <td>6.0</td>\n",
              "      <td>2.0</td>\n",
              "      <td>13.0</td>\n",
              "      <td>19.0</td>\n",
              "      <td>9.0</td>\n",
              "      <td>3.0</td>\n",
              "      <td>2.0</td>\n",
              "      <td>2.0</td>\n",
              "      <td>0.0</td>\n",
              "      <td>1.0</td>\n",
              "    </tr>\n",
              "    <tr>\n",
              "      <th>1</th>\n",
              "      <td>E0</td>\n",
              "      <td>16/08/14</td>\n",
              "      <td>Leicester</td>\n",
              "      <td>Everton</td>\n",
              "      <td>2.0</td>\n",
              "      <td>2.0</td>\n",
              "      <td>D</td>\n",
              "      <td>1.0</td>\n",
              "      <td>2.0</td>\n",
              "      <td>A</td>\n",
              "      <td>M Jones</td>\n",
              "      <td>11.0</td>\n",
              "      <td>13.0</td>\n",
              "      <td>3.0</td>\n",
              "      <td>3.0</td>\n",
              "      <td>16.0</td>\n",
              "      <td>10.0</td>\n",
              "      <td>3.0</td>\n",
              "      <td>6.0</td>\n",
              "      <td>1.0</td>\n",
              "      <td>1.0</td>\n",
              "      <td>0.0</td>\n",
              "      <td>0.0</td>\n",
              "    </tr>\n",
              "    <tr>\n",
              "      <th>2</th>\n",
              "      <td>E0</td>\n",
              "      <td>16/08/14</td>\n",
              "      <td>Man United</td>\n",
              "      <td>Swansea</td>\n",
              "      <td>1.0</td>\n",
              "      <td>2.0</td>\n",
              "      <td>A</td>\n",
              "      <td>0.0</td>\n",
              "      <td>1.0</td>\n",
              "      <td>A</td>\n",
              "      <td>M Dean</td>\n",
              "      <td>14.0</td>\n",
              "      <td>5.0</td>\n",
              "      <td>5.0</td>\n",
              "      <td>4.0</td>\n",
              "      <td>14.0</td>\n",
              "      <td>20.0</td>\n",
              "      <td>4.0</td>\n",
              "      <td>0.0</td>\n",
              "      <td>2.0</td>\n",
              "      <td>4.0</td>\n",
              "      <td>0.0</td>\n",
              "      <td>0.0</td>\n",
              "    </tr>\n",
              "    <tr>\n",
              "      <th>3</th>\n",
              "      <td>E0</td>\n",
              "      <td>16/08/14</td>\n",
              "      <td>QPR</td>\n",
              "      <td>Hull</td>\n",
              "      <td>0.0</td>\n",
              "      <td>1.0</td>\n",
              "      <td>A</td>\n",
              "      <td>0.0</td>\n",
              "      <td>0.0</td>\n",
              "      <td>D</td>\n",
              "      <td>C Pawson</td>\n",
              "      <td>19.0</td>\n",
              "      <td>11.0</td>\n",
              "      <td>6.0</td>\n",
              "      <td>4.0</td>\n",
              "      <td>10.0</td>\n",
              "      <td>10.0</td>\n",
              "      <td>8.0</td>\n",
              "      <td>9.0</td>\n",
              "      <td>1.0</td>\n",
              "      <td>2.0</td>\n",
              "      <td>0.0</td>\n",
              "      <td>0.0</td>\n",
              "    </tr>\n",
              "    <tr>\n",
              "      <th>4</th>\n",
              "      <td>E0</td>\n",
              "      <td>16/08/14</td>\n",
              "      <td>Stoke</td>\n",
              "      <td>Aston Villa</td>\n",
              "      <td>0.0</td>\n",
              "      <td>1.0</td>\n",
              "      <td>A</td>\n",
              "      <td>0.0</td>\n",
              "      <td>0.0</td>\n",
              "      <td>D</td>\n",
              "      <td>A Taylor</td>\n",
              "      <td>12.0</td>\n",
              "      <td>7.0</td>\n",
              "      <td>2.0</td>\n",
              "      <td>2.0</td>\n",
              "      <td>14.0</td>\n",
              "      <td>9.0</td>\n",
              "      <td>2.0</td>\n",
              "      <td>8.0</td>\n",
              "      <td>0.0</td>\n",
              "      <td>3.0</td>\n",
              "      <td>0.0</td>\n",
              "      <td>0.0</td>\n",
              "    </tr>\n",
              "    <tr>\n",
              "      <th>...</th>\n",
              "      <td>...</td>\n",
              "      <td>...</td>\n",
              "      <td>...</td>\n",
              "      <td>...</td>\n",
              "      <td>...</td>\n",
              "      <td>...</td>\n",
              "      <td>...</td>\n",
              "      <td>...</td>\n",
              "      <td>...</td>\n",
              "      <td>...</td>\n",
              "      <td>...</td>\n",
              "      <td>...</td>\n",
              "      <td>...</td>\n",
              "      <td>...</td>\n",
              "      <td>...</td>\n",
              "      <td>...</td>\n",
              "      <td>...</td>\n",
              "      <td>...</td>\n",
              "      <td>...</td>\n",
              "      <td>...</td>\n",
              "      <td>...</td>\n",
              "      <td>...</td>\n",
              "      <td>...</td>\n",
              "    </tr>\n",
              "    <tr>\n",
              "      <th>7298</th>\n",
              "      <td>E0</td>\n",
              "      <td>19/05/01</td>\n",
              "      <td>Man City</td>\n",
              "      <td>Chelsea</td>\n",
              "      <td>1.0</td>\n",
              "      <td>2.0</td>\n",
              "      <td>A</td>\n",
              "      <td>1.0</td>\n",
              "      <td>1.0</td>\n",
              "      <td>D</td>\n",
              "      <td>Mike Riley</td>\n",
              "      <td>3.0</td>\n",
              "      <td>9.0</td>\n",
              "      <td>1.0</td>\n",
              "      <td>3.0</td>\n",
              "      <td>22.0</td>\n",
              "      <td>18.0</td>\n",
              "      <td>8.0</td>\n",
              "      <td>7.0</td>\n",
              "      <td>4.0</td>\n",
              "      <td>2.0</td>\n",
              "      <td>0.0</td>\n",
              "      <td>0.0</td>\n",
              "    </tr>\n",
              "    <tr>\n",
              "      <th>7299</th>\n",
              "      <td>E0</td>\n",
              "      <td>19/05/01</td>\n",
              "      <td>Middlesbrough</td>\n",
              "      <td>West Ham</td>\n",
              "      <td>2.0</td>\n",
              "      <td>1.0</td>\n",
              "      <td>H</td>\n",
              "      <td>2.0</td>\n",
              "      <td>1.0</td>\n",
              "      <td>H</td>\n",
              "      <td>Paul Durkin</td>\n",
              "      <td>19.0</td>\n",
              "      <td>11.0</td>\n",
              "      <td>7.0</td>\n",
              "      <td>5.0</td>\n",
              "      <td>13.0</td>\n",
              "      <td>15.0</td>\n",
              "      <td>5.0</td>\n",
              "      <td>6.0</td>\n",
              "      <td>0.0</td>\n",
              "      <td>0.0</td>\n",
              "      <td>0.0</td>\n",
              "      <td>0.0</td>\n",
              "    </tr>\n",
              "    <tr>\n",
              "      <th>7300</th>\n",
              "      <td>E0</td>\n",
              "      <td>19/05/01</td>\n",
              "      <td>Newcastle</td>\n",
              "      <td>Aston Villa</td>\n",
              "      <td>3.0</td>\n",
              "      <td>0.0</td>\n",
              "      <td>H</td>\n",
              "      <td>2.0</td>\n",
              "      <td>0.0</td>\n",
              "      <td>H</td>\n",
              "      <td>Barry Knight</td>\n",
              "      <td>9.0</td>\n",
              "      <td>5.0</td>\n",
              "      <td>5.0</td>\n",
              "      <td>1.0</td>\n",
              "      <td>10.0</td>\n",
              "      <td>14.0</td>\n",
              "      <td>5.0</td>\n",
              "      <td>1.0</td>\n",
              "      <td>0.0</td>\n",
              "      <td>5.0</td>\n",
              "      <td>1.0</td>\n",
              "      <td>1.0</td>\n",
              "    </tr>\n",
              "    <tr>\n",
              "      <th>7301</th>\n",
              "      <td>E0</td>\n",
              "      <td>19/05/01</td>\n",
              "      <td>Southampton</td>\n",
              "      <td>Arsenal</td>\n",
              "      <td>3.0</td>\n",
              "      <td>2.0</td>\n",
              "      <td>H</td>\n",
              "      <td>0.0</td>\n",
              "      <td>1.0</td>\n",
              "      <td>A</td>\n",
              "      <td>Paul Taylor</td>\n",
              "      <td>11.0</td>\n",
              "      <td>8.0</td>\n",
              "      <td>7.0</td>\n",
              "      <td>5.0</td>\n",
              "      <td>17.0</td>\n",
              "      <td>10.0</td>\n",
              "      <td>7.0</td>\n",
              "      <td>5.0</td>\n",
              "      <td>1.0</td>\n",
              "      <td>2.0</td>\n",
              "      <td>0.0</td>\n",
              "      <td>0.0</td>\n",
              "    </tr>\n",
              "    <tr>\n",
              "      <th>7302</th>\n",
              "      <td>E0</td>\n",
              "      <td>19/05/01</td>\n",
              "      <td>Tottenham</td>\n",
              "      <td>Man United</td>\n",
              "      <td>3.0</td>\n",
              "      <td>1.0</td>\n",
              "      <td>H</td>\n",
              "      <td>1.0</td>\n",
              "      <td>1.0</td>\n",
              "      <td>D</td>\n",
              "      <td>Andy D'Urso</td>\n",
              "      <td>9.0</td>\n",
              "      <td>15.0</td>\n",
              "      <td>3.0</td>\n",
              "      <td>6.0</td>\n",
              "      <td>13.0</td>\n",
              "      <td>15.0</td>\n",
              "      <td>3.0</td>\n",
              "      <td>6.0</td>\n",
              "      <td>0.0</td>\n",
              "      <td>2.0</td>\n",
              "      <td>0.0</td>\n",
              "      <td>0.0</td>\n",
              "    </tr>\n",
              "  </tbody>\n",
              "</table>\n",
              "<p>7260 rows × 23 columns</p>\n",
              "</div>"
            ],
            "text/plain": [
              "     Div      Date       HomeTeam        AwayTeam  ...   HY   AY   HR   AR\n",
              "0     E0  16/08/14        Arsenal  Crystal Palace  ...  2.0  2.0  0.0  1.0\n",
              "1     E0  16/08/14      Leicester         Everton  ...  1.0  1.0  0.0  0.0\n",
              "2     E0  16/08/14     Man United         Swansea  ...  2.0  4.0  0.0  0.0\n",
              "3     E0  16/08/14            QPR            Hull  ...  1.0  2.0  0.0  0.0\n",
              "4     E0  16/08/14          Stoke     Aston Villa  ...  0.0  3.0  0.0  0.0\n",
              "...   ..       ...            ...             ...  ...  ...  ...  ...  ...\n",
              "7298  E0  19/05/01       Man City         Chelsea  ...  4.0  2.0  0.0  0.0\n",
              "7299  E0  19/05/01  Middlesbrough        West Ham  ...  0.0  0.0  0.0  0.0\n",
              "7300  E0  19/05/01      Newcastle     Aston Villa  ...  0.0  5.0  1.0  1.0\n",
              "7301  E0  19/05/01    Southampton         Arsenal  ...  1.0  2.0  0.0  0.0\n",
              "7302  E0  19/05/01      Tottenham      Man United  ...  0.0  2.0  0.0  0.0\n",
              "\n",
              "[7260 rows x 23 columns]"
            ]
          },
          "metadata": {
            "tags": []
          },
          "execution_count": 7
        }
      ]
    },
    {
      "cell_type": "code",
      "metadata": {
        "colab": {
          "base_uri": "https://localhost:8080/",
          "height": 293
        },
        "id": "bma67R_CD67J",
        "outputId": "c00786dd-02ce-4f9d-ad4a-7738d930af04"
      },
      "source": [
        "team_list = np.array(dataset00['HomeTeam'].append(dataset00['AwayTeam'], ignore_index=True).drop_duplicates(inplace=False))         \n",
        "referee_list = np.array(dataset00['Referee'].drop_duplicates(inplace=False))                                                        \n",
        "result_list = np.array(['H','D','A'])                                                                                                       \n",
        "\n",
        "for i in range(len(dataset00)):                                                                                                             \n",
        "  dataset00['HomeTeam'].iloc[i] = np.where(team_list == dataset00['HomeTeam'].iloc[i])[0][0]                                              \n",
        "  dataset00['AwayTeam'].iloc[i] = np.where(team_list == dataset00['AwayTeam'].iloc[i])[0][0]\n",
        "\n",
        "  dataset00['Referee'].iloc[i] = np.where(referee_list == dataset00['Referee'].iloc[i])[0][0]                                                                   \n",
        "  dataset00['FTR'].iloc[i] = np.where(result_list == dataset00['FTR'].iloc[i])[0][0]                                                                \n",
        "  dataset00['HTR'].iloc[i] = np.where(result_list == dataset00['HTR'].iloc[i])[0][0]                                                                        \n",
        "\n",
        "dataset00.drop(labels=['Div','Date',\"FTHG\",\"FTAG\",\"Referee\"],axis=1,inplace=True)                                                                                     \n",
        "\n",
        "dataset00.head()                                                                                                                                              "
      ],
      "execution_count": null,
      "outputs": [
        {
          "output_type": "stream",
          "text": [
            "/usr/local/lib/python3.7/dist-packages/pandas/core/indexing.py:670: SettingWithCopyWarning: \n",
            "A value is trying to be set on a copy of a slice from a DataFrame\n",
            "\n",
            "See the caveats in the documentation: https://pandas.pydata.org/pandas-docs/stable/user_guide/indexing.html#returning-a-view-versus-a-copy\n",
            "  iloc._setitem_with_indexer(indexer, value)\n"
          ],
          "name": "stderr"
        },
        {
          "output_type": "execute_result",
          "data": {
            "text/html": [
              "<div>\n",
              "<style scoped>\n",
              "    .dataframe tbody tr th:only-of-type {\n",
              "        vertical-align: middle;\n",
              "    }\n",
              "\n",
              "    .dataframe tbody tr th {\n",
              "        vertical-align: top;\n",
              "    }\n",
              "\n",
              "    .dataframe thead th {\n",
              "        text-align: right;\n",
              "    }\n",
              "</style>\n",
              "<table border=\"1\" class=\"dataframe\">\n",
              "  <thead>\n",
              "    <tr style=\"text-align: right;\">\n",
              "      <th></th>\n",
              "      <th>HomeTeam</th>\n",
              "      <th>AwayTeam</th>\n",
              "      <th>FTR</th>\n",
              "      <th>HTHG</th>\n",
              "      <th>HTAG</th>\n",
              "      <th>HTR</th>\n",
              "      <th>HS</th>\n",
              "      <th>AS</th>\n",
              "      <th>HST</th>\n",
              "      <th>AST</th>\n",
              "      <th>HF</th>\n",
              "      <th>AF</th>\n",
              "      <th>HC</th>\n",
              "      <th>AC</th>\n",
              "      <th>HY</th>\n",
              "      <th>AY</th>\n",
              "      <th>HR</th>\n",
              "      <th>AR</th>\n",
              "    </tr>\n",
              "  </thead>\n",
              "  <tbody>\n",
              "    <tr>\n",
              "      <th>0</th>\n",
              "      <td>0</td>\n",
              "      <td>12</td>\n",
              "      <td>0</td>\n",
              "      <td>1.0</td>\n",
              "      <td>1.0</td>\n",
              "      <td>1</td>\n",
              "      <td>14.0</td>\n",
              "      <td>4.0</td>\n",
              "      <td>6.0</td>\n",
              "      <td>2.0</td>\n",
              "      <td>13.0</td>\n",
              "      <td>19.0</td>\n",
              "      <td>9.0</td>\n",
              "      <td>3.0</td>\n",
              "      <td>2.0</td>\n",
              "      <td>2.0</td>\n",
              "      <td>0.0</td>\n",
              "      <td>1.0</td>\n",
              "    </tr>\n",
              "    <tr>\n",
              "      <th>1</th>\n",
              "      <td>1</td>\n",
              "      <td>13</td>\n",
              "      <td>1</td>\n",
              "      <td>1.0</td>\n",
              "      <td>2.0</td>\n",
              "      <td>2</td>\n",
              "      <td>11.0</td>\n",
              "      <td>13.0</td>\n",
              "      <td>3.0</td>\n",
              "      <td>3.0</td>\n",
              "      <td>16.0</td>\n",
              "      <td>10.0</td>\n",
              "      <td>3.0</td>\n",
              "      <td>6.0</td>\n",
              "      <td>1.0</td>\n",
              "      <td>1.0</td>\n",
              "      <td>0.0</td>\n",
              "      <td>0.0</td>\n",
              "    </tr>\n",
              "    <tr>\n",
              "      <th>2</th>\n",
              "      <td>2</td>\n",
              "      <td>15</td>\n",
              "      <td>2</td>\n",
              "      <td>0.0</td>\n",
              "      <td>1.0</td>\n",
              "      <td>2</td>\n",
              "      <td>14.0</td>\n",
              "      <td>5.0</td>\n",
              "      <td>5.0</td>\n",
              "      <td>4.0</td>\n",
              "      <td>14.0</td>\n",
              "      <td>20.0</td>\n",
              "      <td>4.0</td>\n",
              "      <td>0.0</td>\n",
              "      <td>2.0</td>\n",
              "      <td>4.0</td>\n",
              "      <td>0.0</td>\n",
              "      <td>0.0</td>\n",
              "    </tr>\n",
              "    <tr>\n",
              "      <th>3</th>\n",
              "      <td>3</td>\n",
              "      <td>16</td>\n",
              "      <td>2</td>\n",
              "      <td>0.0</td>\n",
              "      <td>0.0</td>\n",
              "      <td>1</td>\n",
              "      <td>19.0</td>\n",
              "      <td>11.0</td>\n",
              "      <td>6.0</td>\n",
              "      <td>4.0</td>\n",
              "      <td>10.0</td>\n",
              "      <td>10.0</td>\n",
              "      <td>8.0</td>\n",
              "      <td>9.0</td>\n",
              "      <td>1.0</td>\n",
              "      <td>2.0</td>\n",
              "      <td>0.0</td>\n",
              "      <td>0.0</td>\n",
              "    </tr>\n",
              "    <tr>\n",
              "      <th>4</th>\n",
              "      <td>4</td>\n",
              "      <td>10</td>\n",
              "      <td>2</td>\n",
              "      <td>0.0</td>\n",
              "      <td>0.0</td>\n",
              "      <td>1</td>\n",
              "      <td>12.0</td>\n",
              "      <td>7.0</td>\n",
              "      <td>2.0</td>\n",
              "      <td>2.0</td>\n",
              "      <td>14.0</td>\n",
              "      <td>9.0</td>\n",
              "      <td>2.0</td>\n",
              "      <td>8.0</td>\n",
              "      <td>0.0</td>\n",
              "      <td>3.0</td>\n",
              "      <td>0.0</td>\n",
              "      <td>0.0</td>\n",
              "    </tr>\n",
              "  </tbody>\n",
              "</table>\n",
              "</div>"
            ],
            "text/plain": [
              "  HomeTeam AwayTeam FTR  HTHG  HTAG HTR  ...   HC   AC   HY   AY   HR   AR\n",
              "0        0       12   0   1.0   1.0   1  ...  9.0  3.0  2.0  2.0  0.0  1.0\n",
              "1        1       13   1   1.0   2.0   2  ...  3.0  6.0  1.0  1.0  0.0  0.0\n",
              "2        2       15   2   0.0   1.0   2  ...  4.0  0.0  2.0  4.0  0.0  0.0\n",
              "3        3       16   2   0.0   0.0   1  ...  8.0  9.0  1.0  2.0  0.0  0.0\n",
              "4        4       10   2   0.0   0.0   1  ...  2.0  8.0  0.0  3.0  0.0  0.0\n",
              "\n",
              "[5 rows x 18 columns]"
            ]
          },
          "metadata": {
            "tags": []
          },
          "execution_count": 606
        }
      ]
    },
    {
      "cell_type": "code",
      "metadata": {
        "id": "ie-akRqkKtpO"
      },
      "source": [
        "tbn = ['HTHG','HTAG','HS','AS','HST','AST','HC','AC','HF','AF','HY','AY','HR','AR']\n",
        "\n",
        "\n",
        "for t in tbn: #Std normal\n",
        "  dataset00[t] = (dataset00[t] - dataset00[t].mean()) / dataset00[t].std()\n",
        "\n",
        "# for t in tbn: #0-1 normal\n",
        "#   dataset00[t] = (dataset00[t] - dataset00[t].min()) / ((dataset00[t] - dataset00[t].min()).max())"
      ],
      "execution_count": null,
      "outputs": []
    },
    {
      "cell_type": "code",
      "metadata": {
        "colab": {
          "base_uri": "https://localhost:8080/",
          "height": 226
        },
        "id": "73AlRwrGGpqJ",
        "outputId": "71f53923-e405-4beb-c951-b7c85406896e"
      },
      "source": [
        "dataset00.head(5)"
      ],
      "execution_count": null,
      "outputs": [
        {
          "output_type": "execute_result",
          "data": {
            "text/html": [
              "<div>\n",
              "<style scoped>\n",
              "    .dataframe tbody tr th:only-of-type {\n",
              "        vertical-align: middle;\n",
              "    }\n",
              "\n",
              "    .dataframe tbody tr th {\n",
              "        vertical-align: top;\n",
              "    }\n",
              "\n",
              "    .dataframe thead th {\n",
              "        text-align: right;\n",
              "    }\n",
              "</style>\n",
              "<table border=\"1\" class=\"dataframe\">\n",
              "  <thead>\n",
              "    <tr style=\"text-align: right;\">\n",
              "      <th></th>\n",
              "      <th>HomeTeam</th>\n",
              "      <th>AwayTeam</th>\n",
              "      <th>FTR</th>\n",
              "      <th>HTHG</th>\n",
              "      <th>HTAG</th>\n",
              "      <th>HTR</th>\n",
              "      <th>HS</th>\n",
              "      <th>AS</th>\n",
              "      <th>HST</th>\n",
              "      <th>AST</th>\n",
              "      <th>HF</th>\n",
              "      <th>AF</th>\n",
              "      <th>HC</th>\n",
              "      <th>AC</th>\n",
              "      <th>HY</th>\n",
              "      <th>AY</th>\n",
              "      <th>HR</th>\n",
              "      <th>AR</th>\n",
              "    </tr>\n",
              "  </thead>\n",
              "  <tbody>\n",
              "    <tr>\n",
              "      <th>0</th>\n",
              "      <td>0</td>\n",
              "      <td>12</td>\n",
              "      <td>0</td>\n",
              "      <td>0.383799</td>\n",
              "      <td>0.704291</td>\n",
              "      <td>1</td>\n",
              "      <td>0.092082</td>\n",
              "      <td>-1.452136</td>\n",
              "      <td>-0.097828</td>\n",
              "      <td>-1.017396</td>\n",
              "      <td>0.394342</td>\n",
              "      <td>1.742784</td>\n",
              "      <td>0.919799</td>\n",
              "      <td>-0.658561</td>\n",
              "      <td>0.504312</td>\n",
              "      <td>0.184324</td>\n",
              "      <td>-0.252572</td>\n",
              "      <td>3.005262</td>\n",
              "    </tr>\n",
              "    <tr>\n",
              "      <th>1</th>\n",
              "      <td>1</td>\n",
              "      <td>13</td>\n",
              "      <td>1</td>\n",
              "      <td>0.383799</td>\n",
              "      <td>2.105922</td>\n",
              "      <td>2</td>\n",
              "      <td>-0.483565</td>\n",
              "      <td>0.545265</td>\n",
              "      <td>-0.990451</td>\n",
              "      <td>-0.664120</td>\n",
              "      <td>1.181651</td>\n",
              "      <td>-0.525116</td>\n",
              "      <td>-1.017931</td>\n",
              "      <td>0.442410</td>\n",
              "      <td>-0.337174</td>\n",
              "      <td>-0.601000</td>\n",
              "      <td>-0.252572</td>\n",
              "      <td>-0.307553</td>\n",
              "    </tr>\n",
              "    <tr>\n",
              "      <th>2</th>\n",
              "      <td>2</td>\n",
              "      <td>15</td>\n",
              "      <td>2</td>\n",
              "      <td>-0.821382</td>\n",
              "      <td>0.704291</td>\n",
              "      <td>2</td>\n",
              "      <td>0.092082</td>\n",
              "      <td>-1.230202</td>\n",
              "      <td>-0.395369</td>\n",
              "      <td>-0.310844</td>\n",
              "      <td>0.656778</td>\n",
              "      <td>1.994773</td>\n",
              "      <td>-0.694976</td>\n",
              "      <td>-1.759531</td>\n",
              "      <td>0.504312</td>\n",
              "      <td>1.754973</td>\n",
              "      <td>-0.252572</td>\n",
              "      <td>-0.307553</td>\n",
              "    </tr>\n",
              "    <tr>\n",
              "      <th>3</th>\n",
              "      <td>3</td>\n",
              "      <td>16</td>\n",
              "      <td>2</td>\n",
              "      <td>-0.821382</td>\n",
              "      <td>-0.697341</td>\n",
              "      <td>1</td>\n",
              "      <td>1.051495</td>\n",
              "      <td>0.101399</td>\n",
              "      <td>-0.097828</td>\n",
              "      <td>-0.310844</td>\n",
              "      <td>-0.392968</td>\n",
              "      <td>-0.525116</td>\n",
              "      <td>0.596844</td>\n",
              "      <td>1.543381</td>\n",
              "      <td>-0.337174</td>\n",
              "      <td>0.184324</td>\n",
              "      <td>-0.252572</td>\n",
              "      <td>-0.307553</td>\n",
              "    </tr>\n",
              "    <tr>\n",
              "      <th>4</th>\n",
              "      <td>4</td>\n",
              "      <td>10</td>\n",
              "      <td>2</td>\n",
              "      <td>-0.821382</td>\n",
              "      <td>-0.697341</td>\n",
              "      <td>1</td>\n",
              "      <td>-0.291683</td>\n",
              "      <td>-0.786335</td>\n",
              "      <td>-1.287992</td>\n",
              "      <td>-1.017396</td>\n",
              "      <td>0.656778</td>\n",
              "      <td>-0.777104</td>\n",
              "      <td>-1.340885</td>\n",
              "      <td>1.176391</td>\n",
              "      <td>-1.178660</td>\n",
              "      <td>0.969649</td>\n",
              "      <td>-0.252572</td>\n",
              "      <td>-0.307553</td>\n",
              "    </tr>\n",
              "  </tbody>\n",
              "</table>\n",
              "</div>"
            ],
            "text/plain": [
              "  HomeTeam AwayTeam FTR      HTHG  ...        HY        AY        HR        AR\n",
              "0        0       12   0  0.383799  ...  0.504312  0.184324 -0.252572  3.005262\n",
              "1        1       13   1  0.383799  ... -0.337174 -0.601000 -0.252572 -0.307553\n",
              "2        2       15   2 -0.821382  ...  0.504312  1.754973 -0.252572 -0.307553\n",
              "3        3       16   2 -0.821382  ... -0.337174  0.184324 -0.252572 -0.307553\n",
              "4        4       10   2 -0.821382  ... -1.178660  0.969649 -0.252572 -0.307553\n",
              "\n",
              "[5 rows x 18 columns]"
            ]
          },
          "metadata": {
            "tags": []
          },
          "execution_count": 612
        }
      ]
    },
    {
      "cell_type": "code",
      "metadata": {
        "id": "N-PR1DxJLc7S",
        "colab": {
          "base_uri": "https://localhost:8080/",
          "height": 1000
        },
        "outputId": "4bd262f2-0b97-4276-8a81-31995d840240"
      },
      "source": [
        "plt.figure(figsize=(25, 25))\n",
        "heatmap = sns.heatmap(dataset00.corr('pearson'), vmin=-1, vmax=1, annot=True)"
      ],
      "execution_count": 8,
      "outputs": [
        {
          "output_type": "display_data",
          "data": {
            "image/png": "[encoded data removed]",
            "text/plain": [
              "<Figure size 1800x1800 with 2 Axes>"
            ]
          },
          "metadata": {
            "tags": [],
            "needs_background": "light"
          }
        }
      ]
    },
    {
      "cell_type": "code",
      "metadata": {
        "id": "RCrvQ_wf4xBI"
      },
      "source": [
        "tt_split = 0.9\n",
        "\n",
        "y_train = dataset00[:int(tt_split * np.shape(dataset00)[0])]['FTR']\n",
        "y_test  = dataset00[int(tt_split * np.shape(dataset00)[0]):]['FTR']\n",
        "\n",
        "x_train = dataset00[:int(tt_split * np.shape(dataset00)[0])].drop(labels=['FTR'], axis=1)\n",
        "x_test  = dataset00[int(tt_split * np.shape(dataset00)[0]):].drop(labels=['FTR'], axis=1)"
      ],
      "execution_count": null,
      "outputs": []
    },
    {
      "cell_type": "code",
      "metadata": {
        "id": "say9irVx3ghk"
      },
      "source": [
        "val_split = 0.8\n",
        "\n",
        "y_val  = y_train[int(val_split * np.shape(dataset00)[0]):].reset_index().drop(labels=['index'],axis=1)\n",
        "y_train = y_train[:int(val_split * np.shape(dataset00)[0])]\n",
        "\n",
        "x_val  = x_train[int(val_split * np.shape(dataset00)[0]):].reset_index().drop(labels=['index'],axis=1)\n",
        "x_train = x_train[:int(val_split * np.shape(dataset00)[0])]"
      ],
      "execution_count": null,
      "outputs": []
    },
    {
      "cell_type": "code",
      "metadata": {
        "colab": {
          "base_uri": "https://localhost:8080/"
        },
        "id": "4f2GGHxT6vVV",
        "outputId": "38bffccd-b62a-430e-cf1e-8ec3bc68c9b5"
      },
      "source": [
        "np.shape(x_train), np.shape(y_train), np.shape(x_val), np.shape(y_val)"
      ],
      "execution_count": null,
      "outputs": [
        {
          "output_type": "execute_result",
          "data": {
            "text/plain": [
              "((5808, 17), (5808,), (726, 17), (726, 1))"
            ]
          },
          "metadata": {
            "tags": []
          },
          "execution_count": 616
        }
      ]
    },
    {
      "cell_type": "code",
      "metadata": {
        "colab": {
          "base_uri": "https://localhost:8080/",
          "height": 132
        },
        "id": "wBAPoDkV7BDj",
        "outputId": "10a35ad3-5a5c-4da9-e682-55b272c073fb"
      },
      "source": [
        "x_train.head(2)"
      ],
      "execution_count": null,
      "outputs": [
        {
          "output_type": "execute_result",
          "data": {
            "text/html": [
              "<div>\n",
              "<style scoped>\n",
              "    .dataframe tbody tr th:only-of-type {\n",
              "        vertical-align: middle;\n",
              "    }\n",
              "\n",
              "    .dataframe tbody tr th {\n",
              "        vertical-align: top;\n",
              "    }\n",
              "\n",
              "    .dataframe thead th {\n",
              "        text-align: right;\n",
              "    }\n",
              "</style>\n",
              "<table border=\"1\" class=\"dataframe\">\n",
              "  <thead>\n",
              "    <tr style=\"text-align: right;\">\n",
              "      <th></th>\n",
              "      <th>HomeTeam</th>\n",
              "      <th>AwayTeam</th>\n",
              "      <th>HTHG</th>\n",
              "      <th>HTAG</th>\n",
              "      <th>HTR</th>\n",
              "      <th>HS</th>\n",
              "      <th>AS</th>\n",
              "      <th>HST</th>\n",
              "      <th>AST</th>\n",
              "      <th>HF</th>\n",
              "      <th>AF</th>\n",
              "      <th>HC</th>\n",
              "      <th>AC</th>\n",
              "      <th>HY</th>\n",
              "      <th>AY</th>\n",
              "      <th>HR</th>\n",
              "      <th>AR</th>\n",
              "    </tr>\n",
              "  </thead>\n",
              "  <tbody>\n",
              "    <tr>\n",
              "      <th>0</th>\n",
              "      <td>0</td>\n",
              "      <td>12</td>\n",
              "      <td>0.383799</td>\n",
              "      <td>0.704291</td>\n",
              "      <td>1</td>\n",
              "      <td>0.092082</td>\n",
              "      <td>-1.452136</td>\n",
              "      <td>-0.097828</td>\n",
              "      <td>-1.017396</td>\n",
              "      <td>0.394342</td>\n",
              "      <td>1.742784</td>\n",
              "      <td>0.919799</td>\n",
              "      <td>-0.658561</td>\n",
              "      <td>0.504312</td>\n",
              "      <td>0.184324</td>\n",
              "      <td>-0.252572</td>\n",
              "      <td>3.005262</td>\n",
              "    </tr>\n",
              "    <tr>\n",
              "      <th>1</th>\n",
              "      <td>1</td>\n",
              "      <td>13</td>\n",
              "      <td>0.383799</td>\n",
              "      <td>2.105922</td>\n",
              "      <td>2</td>\n",
              "      <td>-0.483565</td>\n",
              "      <td>0.545265</td>\n",
              "      <td>-0.990451</td>\n",
              "      <td>-0.664120</td>\n",
              "      <td>1.181651</td>\n",
              "      <td>-0.525116</td>\n",
              "      <td>-1.017931</td>\n",
              "      <td>0.442410</td>\n",
              "      <td>-0.337174</td>\n",
              "      <td>-0.601000</td>\n",
              "      <td>-0.252572</td>\n",
              "      <td>-0.307553</td>\n",
              "    </tr>\n",
              "  </tbody>\n",
              "</table>\n",
              "</div>"
            ],
            "text/plain": [
              "  HomeTeam AwayTeam      HTHG      HTAG  ...        HY        AY        HR        AR\n",
              "0        0       12  0.383799  0.704291  ...  0.504312  0.184324 -0.252572  3.005262\n",
              "1        1       13  0.383799  2.105922  ... -0.337174 -0.601000 -0.252572 -0.307553\n",
              "\n",
              "[2 rows x 17 columns]"
            ]
          },
          "metadata": {
            "tags": []
          },
          "execution_count": 617
        }
      ]
    },
    {
      "cell_type": "code",
      "metadata": {
        "id": "XMhKOAoT5UqU"
      },
      "source": [
        "def evaluate_nayyer(x,y,model):\n",
        "\n",
        "  points = np.shape(x)[0]\n",
        "  points_accounted = points\n",
        "  features = np.shape(x)[1]\n",
        "\n",
        "  correct_predictions = 0\n",
        "\n",
        "  for s in range(points):  \n",
        "    try:\n",
        "      y_pred = model.predict(np.array(x)[s].astype(np.float).reshape(1,features))[0]\n",
        "      y_label = np.array(y)[s].astype(np.float)\n",
        "\n",
        "      if y_pred == y_label:\n",
        "        correct_predictions += 1\n",
        "\n",
        "\n",
        "    except:\n",
        "      points_accounted -= 1\n",
        "\n",
        "  acc = correct_predictions / points\n",
        "\n",
        "  return acc, points_accounted/points"
      ],
      "execution_count": null,
      "outputs": []
    },
    {
      "cell_type": "code",
      "metadata": {
        "colab": {
          "base_uri": "https://localhost:8080/"
        },
        "id": "uiKQKLLdtmX6",
        "outputId": "97a77460-c139-41be-9b14-707c5d398b78"
      },
      "source": [
        "clf = GaussianNB()\n",
        "clf.fit(np.array(x_train).astype(np.float), np.array(y_train).astype(np.float))"
      ],
      "execution_count": null,
      "outputs": [
        {
          "output_type": "execute_result",
          "data": {
            "text/plain": [
              "GaussianNB(priors=None, var_smoothing=1e-09)"
            ]
          },
          "metadata": {
            "tags": []
          },
          "execution_count": 619
        }
      ]
    },
    {
      "cell_type": "code",
      "metadata": {
        "colab": {
          "base_uri": "https://localhost:8080/"
        },
        "id": "cUJ80B6rAbht",
        "outputId": "d4dbb76f-261b-458d-9bd2-0ed26557ff13"
      },
      "source": [
        "evaluate_nayyer(x_val, y_val, clf)"
      ],
      "execution_count": null,
      "outputs": [
        {
          "output_type": "execute_result",
          "data": {
            "text/plain": [
              "(0.6267217630853994, 1.0)"
            ]
          },
          "metadata": {
            "tags": []
          },
          "execution_count": 620
        }
      ]
    },
    {
      "cell_type": "code",
      "metadata": {
        "colab": {
          "base_uri": "https://localhost:8080/"
        },
        "id": "7l3_cfReCCTK",
        "outputId": "ff6daea5-cd10-418d-9b09-c865a3cfbb4b"
      },
      "source": [
        "evaluate_nayyer(x_test, y_test, clf)"
      ],
      "execution_count": null,
      "outputs": [
        {
          "output_type": "execute_result",
          "data": {
            "text/plain": [
              "(0.6019283746556474, 1.0)"
            ]
          },
          "metadata": {
            "tags": []
          },
          "execution_count": 621
        }
      ]
    },
    {
      "cell_type": "code",
      "metadata": {
        "id": "QoFzEg7GO7ux"
      },
      "source": [
        "from sklearn.neighbors import KNeighborsClassifier"
      ],
      "execution_count": null,
      "outputs": []
    },
    {
      "cell_type": "code",
      "metadata": {
        "colab": {
          "base_uri": "https://localhost:8080/"
        },
        "id": "cktrEbKJMK-z",
        "outputId": "d8044979-81b6-42e3-9f12-94b260ff5793"
      },
      "source": [
        "neigh = KNeighborsClassifier(n_neighbors=3)\n",
        "neigh.fit(np.array(x_train).astype(np.float), np.array(y_train).astype(np.float))"
      ],
      "execution_count": null,
      "outputs": [
        {
          "output_type": "execute_result",
          "data": {
            "text/plain": [
              "KNeighborsClassifier(algorithm='auto', leaf_size=30, metric='minkowski',\n",
              "                     metric_params=None, n_jobs=None, n_neighbors=3, p=2,\n",
              "                     weights='uniform')"
            ]
          },
          "metadata": {
            "tags": []
          },
          "execution_count": 623
        }
      ]
    },
    {
      "cell_type": "code",
      "metadata": {
        "colab": {
          "base_uri": "https://localhost:8080/"
        },
        "id": "4LcK_zhGO6rO",
        "outputId": "3d2edbc9-970a-46e3-c207-435c03e53f16"
      },
      "source": [
        "evaluate_nayyer(x_val, y_val, neigh)"
      ],
      "execution_count": null,
      "outputs": [
        {
          "output_type": "execute_result",
          "data": {
            "text/plain": [
              "(0.5234159779614325, 1.0)"
            ]
          },
          "metadata": {
            "tags": []
          },
          "execution_count": 624
        }
      ]
    },
    {
      "cell_type": "code",
      "metadata": {
        "colab": {
          "base_uri": "https://localhost:8080/"
        },
        "id": "Crn3-RpLPFtp",
        "outputId": "2fe781b5-28e8-44d8-a6fb-04bb0c56b936"
      },
      "source": [
        "evaluate_nayyer(x_test, y_test, neigh)"
      ],
      "execution_count": null,
      "outputs": [
        {
          "output_type": "execute_result",
          "data": {
            "text/plain": [
              "(0.5179063360881543, 1.0)"
            ]
          },
          "metadata": {
            "tags": []
          },
          "execution_count": 625
        }
      ]
    },
    {
      "cell_type": "code",
      "metadata": {
        "id": "-Yb61OwrPO0X"
      },
      "source": [
        "from sklearn.linear_model import LogisticRegression"
      ],
      "execution_count": null,
      "outputs": []
    },
    {
      "cell_type": "code",
      "metadata": {
        "colab": {
          "base_uri": "https://localhost:8080/"
        },
        "id": "yQwKjjzmPaw7",
        "outputId": "a9e86444-ce39-42fe-da91-ccca09b71ba4"
      },
      "source": [
        "logi = LogisticRegression(random_state=0,max_iter=1000)\n",
        "logi.fit(np.array(x_train).astype(np.float), np.array(y_train).astype(np.float))"
      ],
      "execution_count": null,
      "outputs": [
        {
          "output_type": "execute_result",
          "data": {
            "text/plain": [
              "LogisticRegression(C=1.0, class_weight=None, dual=False, fit_intercept=True,\n",
              "                   intercept_scaling=1, l1_ratio=None, max_iter=1000,\n",
              "                   multi_class='auto', n_jobs=None, penalty='l2',\n",
              "                   random_state=0, solver='lbfgs', tol=0.0001, verbose=0,\n",
              "                   warm_start=False)"
            ]
          },
          "metadata": {
            "tags": []
          },
          "execution_count": 627
        }
      ]
    },
    {
      "cell_type": "code",
      "metadata": {
        "colab": {
          "base_uri": "https://localhost:8080/"
        },
        "id": "LAaEVuTfQADf",
        "outputId": "a43558c6-2870-4f2b-ba89-6618b0d090ee"
      },
      "source": [
        "evaluate_nayyer(x_val,y_val,logi)"
      ],
      "execution_count": null,
      "outputs": [
        {
          "output_type": "execute_result",
          "data": {
            "text/plain": [
              "(0.6336088154269972, 1.0)"
            ]
          },
          "metadata": {
            "tags": []
          },
          "execution_count": 628
        }
      ]
    },
    {
      "cell_type": "code",
      "metadata": {
        "colab": {
          "base_uri": "https://localhost:8080/"
        },
        "id": "2bmfQPjxQGg7",
        "outputId": "49bf949a-8fe9-40f9-a819-89a68782d5e3"
      },
      "source": [
        "evaluate_nayyer(x_test,y_test,logi)"
      ],
      "execution_count": null,
      "outputs": [
        {
          "output_type": "execute_result",
          "data": {
            "text/plain": [
              "(0.6170798898071626, 1.0)"
            ]
          },
          "metadata": {
            "tags": []
          },
          "execution_count": 629
        }
      ]
    }
  ]
}